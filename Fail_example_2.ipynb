{
 "cells": [
  {
   "cell_type": "code",
   "execution_count": 20,
   "id": "2c2f4f03-d37c-4667-95ca-9d0e3919722e",
   "metadata": {},
   "outputs": [
    {
     "name": "stdout",
     "output_type": "stream",
     "text": [
      "0.19.0+b53a3ad\n"
     ]
    }
   ],
   "source": [
    "import open3d as o3d\n",
    "print(o3d.__version__)\n"
   ]
  },
  {
   "cell_type": "code",
   "execution_count": 21,
   "id": "4eed35a0-aa71-40dd-b30e-560c60f45dde",
   "metadata": {},
   "outputs": [
    {
     "name": "stdout",
     "output_type": "stream",
     "text": [
      "PyOrbbecSDK version: 2.0.13\n"
     ]
    }
   ],
   "source": [
    "try:\n",
    "    import pyorbbecsdk as ob\n",
    "    # Most versions expose __version__:\n",
    "    print(\"PyOrbbecSDK version:\", ob.__version__)\n",
    "except (ImportError, AttributeError):\n",
    "    # Fallback: use importlib.metadata (Python 3.8+)\n",
    "    from importlib.metadata import version, PackageNotFoundError\n",
    "    try:\n",
    "        print(\"PyOrbbecSDK version:\", version(\"pyorbbecsdk\"))\n",
    "    except PackageNotFoundError:\n",
    "        print(\"PyOrbbecSDK is not installed.\")\n"
   ]
  },
  {
   "cell_type": "code",
   "execution_count": 22,
   "id": "04ed6cae-670b-405d-bb9a-ef6f66f8d5c9",
   "metadata": {},
   "outputs": [],
   "source": [
    "from pyorbbecsdk import Pipeline, Config, OBSensorType, OBFormat"
   ]
  },
  {
   "cell_type": "code",
   "execution_count": 23,
   "id": "4b6f8b69-dd4b-4a25-a33c-d5fb7f16d6b6",
   "metadata": {},
   "outputs": [],
   "source": [
    "import numpy as np"
   ]
  },
  {
   "cell_type": "code",
   "execution_count": 24,
   "id": "52674966-8f95-4229-a62e-40392eddbc80",
   "metadata": {},
   "outputs": [],
   "source": [
    "import cv2"
   ]
  },
  {
   "cell_type": "code",
   "execution_count": 25,
   "id": "4d6bd9c5-4874-4723-bb76-9423526aeddd",
   "metadata": {},
   "outputs": [
    {
     "name": "stdout",
     "output_type": "stream",
     "text": [
      "Depth frame shape: (576, 640)\n",
      "Center pixel depth: 0 mm\n"
     ]
    }
   ],
   "source": [
    "\n",
    "\n",
    "def test_orbbec_depth_only(timeout_ms=2000):\n",
    "    # 1) Set up Config & Pipeline\n",
    "    cfg = Config()\n",
    "    pipe = Pipeline()\n",
    "\n",
    "    # 2) Pick the first available depth profile\n",
    "    depth_profiles = pipe.get_stream_profile_list(OBSensorType.DEPTH_SENSOR)\n",
    "    if not depth_profiles:\n",
    "        print(\"No depth sensor found!\")\n",
    "        return\n",
    "    cfg.enable_stream(depth_profiles[0])  # default depth stream :contentReference[oaicite:0]{index=0}\n",
    "\n",
    "    # 3) Start streaming\n",
    "    pipe.start(cfg)\n",
    "\n",
    "    # 4) Wait for one frameset\n",
    "    frames = pipe.wait_for_frames(timeout_ms)\n",
    "    if frames is None:\n",
    "        print(f\"No frame received within {timeout_ms} ms\")\n",
    "        pipe.stop()\n",
    "        return\n",
    "\n",
    "    # 5) Extract depth data\n",
    "    depth_frame = frames.get_depth_frame()\n",
    "    h, w = depth_frame.get_height(), depth_frame.get_width()\n",
    "    raw = depth_frame.get_data()\n",
    "    # ensure we have a bytes object\n",
    "    buf = raw.tobytes() if hasattr(raw, \"tobytes\") else bytes(raw)\n",
    "    arr = np.frombuffer(buf, dtype=np.uint16)\n",
    "    depth = arr.reshape((h, w))\n",
    "\n",
    "    # 6) Inspect\n",
    "    print(f\"Depth frame shape: {depth.shape}\")\n",
    "    print(f\"Center pixel depth: {depth[h//2, w//2]} mm\")\n",
    "\n",
    "    # 7) Clean up\n",
    "    pipe.stop()\n",
    "\n",
    "if __name__ == \"__main__\":\n",
    "    test_orbbec_depth_only()\n"
   ]
  },
  {
   "cell_type": "code",
   "execution_count": null,
   "id": "b5a2559b-9256-46d1-837a-6b7ba3fdc7b5",
   "metadata": {},
   "outputs": [],
   "source": []
  }
 ],
 "metadata": {
  "kernelspec": {
   "display_name": "Python (o3d)",
   "language": "python",
   "name": "o3d"
  },
  "language_info": {
   "codemirror_mode": {
    "name": "ipython",
    "version": 3
   },
   "file_extension": ".py",
   "mimetype": "text/x-python",
   "name": "python",
   "nbconvert_exporter": "python",
   "pygments_lexer": "ipython3",
   "version": "3.10.18"
  }
 },
 "nbformat": 4,
 "nbformat_minor": 5
}
