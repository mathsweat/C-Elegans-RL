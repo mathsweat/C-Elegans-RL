{
 "cells": [
  {
   "cell_type": "code",
   "execution_count": 1,
   "id": "5ab65f07-02ec-4fb8-91a6-227ce47b862d",
   "metadata": {},
   "outputs": [
    {
     "name": "stdout",
     "output_type": "stream",
     "text": [
      "Note: you may need to restart the kernel to use updated packages.\n"
     ]
    },
    {
     "name": "stderr",
     "output_type": "stream",
     "text": [
      "ERROR: Could not find a version that satisfies the requirement open3d (from versions: none)\n",
      "ERROR: No matching distribution found for open3d\n"
     ]
    }
   ],
   "source": [
    "pip install open3d"
   ]
  },
  {
   "cell_type": "code",
   "execution_count": null,
   "id": "fa6ae7c5-bec9-44cf-b84c-c17f8f4eb8c1",
   "metadata": {},
   "outputs": [],
   "source": [
    "import open3d as o3d"
   ]
  },
  {
   "cell_type": "code",
   "execution_count": null,
   "id": "e6268d34-f05f-465c-b509-c33155f0ef04",
   "metadata": {},
   "outputs": [],
   "source": [
    "from pyorbbecsdk import Context, Pipeline\n",
    "import open3d as o3d"
   ]
  },
  {
   "cell_type": "code",
   "execution_count": null,
   "id": "8698259a-2240-4a3e-b18f-9ad0482ed1da",
   "metadata": {},
   "outputs": [],
   "source": [
    "conda install -c open3d-admin open3d"
   ]
  },
  {
   "cell_type": "code",
   "execution_count": null,
   "id": "81dbaacf-7eb0-42bb-b509-be6bce50a9fb",
   "metadata": {},
   "outputs": [],
   "source": [
    "python -c \"import open3d\""
   ]
  },
  {
   "cell_type": "code",
   "execution_count": 2,
   "id": "0f401124-c28c-42da-af91-7735d13e1b8e",
   "metadata": {},
   "outputs": [
    {
     "ename": "NameError",
     "evalue": "name 'python' is not defined",
     "output_type": "error",
     "traceback": [
      "\u001b[1;31m---------------------------------------------------------------------------\u001b[0m",
      "\u001b[1;31mNameError\u001b[0m                                 Traceback (most recent call last)",
      "Cell \u001b[1;32mIn[2], line 1\u001b[0m\n\u001b[1;32m----> 1\u001b[0m python \u001b[38;5;241m-\u001b[39m\u001b[38;5;241m-\u001b[39mversion\n",
      "\u001b[1;31mNameError\u001b[0m: name 'python' is not defined"
     ]
    }
   ],
   "source": [
    "python --version"
   ]
  },
  {
   "cell_type": "code",
   "execution_count": null,
   "id": "38f73417-9cb6-4c6a-a7d4-9160f7bf76ec",
   "metadata": {},
   "outputs": [],
   "source": []
  }
 ],
 "metadata": {
  "kernelspec": {
   "display_name": "Python [conda env:o3d310]",
   "language": "python",
   "name": "conda-env-o3d310-py"
  },
  "language_info": {
   "codemirror_mode": {
    "name": "ipython",
    "version": 3
   },
   "file_extension": ".py",
   "mimetype": "text/x-python",
   "name": "python",
   "nbconvert_exporter": "python",
   "pygments_lexer": "ipython3",
   "version": "3.10.18"
  }
 },
 "nbformat": 4,
 "nbformat_minor": 5
}
