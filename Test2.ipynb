{
 "cells": [
  {
   "cell_type": "code",
   "execution_count": null,
   "id": "0ebefebf-b011-4cb8-8e2c-df8fbcb720cf",
   "metadata": {},
   "outputs": [],
   "source": [
    "from pyorbbecsdk import OrbbecCamera\n",
    "\n",
    "# Initialize the camera\n",
    "camera = OrbbecCamera()\n",
    "\n",
    "# Start capturing frames\n",
    "camera.start()\n",
    "\n",
    "# Capture a single frame\n",
    "frame = camera.get_frame()\n",
    "\n",
    "# Process the frame (e.g., depth or color data)\n",
    "print(\"Frame captured:\", frame)\n",
    "\n",
    "# Stop the camera\n",
    "camera.stop()\n"
   ]
  }
 ],
 "metadata": {
  "kernelspec": {
   "display_name": "Python [conda env:base] *",
   "language": "python",
   "name": "conda-base-py"
  },
  "language_info": {
   "codemirror_mode": {
    "name": "ipython",
    "version": 3
   },
   "file_extension": ".py",
   "mimetype": "text/x-python",
   "name": "python",
   "nbconvert_exporter": "python",
   "pygments_lexer": "ipython3",
   "version": "3.13.5"
  }
 },
 "nbformat": 4,
 "nbformat_minor": 5
}
