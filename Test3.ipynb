{
 "cells": [
  {
   "cell_type": "code",
   "execution_count": null,
   "id": "2e429d32-cc3a-4f1e-90fb-a17157224fa2",
   "metadata": {},
   "outputs": [],
   "source": [
    "import time\n",
    "import numpy as np\n",
    "import pyorbbecsdk as orbbec           \n",
    "from IPython.display import clear_output\n",
    "import open3d as o3d"
   ]
  },
  {
   "cell_type": "code",
   "execution_count": null,
   "id": "bba9d7c0-82fd-482f-b6f5-d83368b72ca0",
   "metadata": {},
   "outputs": [],
   "source": [
    "# Open device and start stream\n",
    "dev = orbbec.Device()\n",
    "dev.open()\n",
    "dev.start_stream()"
   ]
  },
  {
   "cell_type": "code",
   "execution_count": null,
   "id": "5e4d6a8c-5eb2-4075-9365-16c0d4c3af84",
   "metadata": {},
   "outputs": [],
   "source": [
    "def get_frame_pointcloud(dev):\n",
    "    depth = dev.depth_frame\n",
    "    rgb   = dev.color_frame\n",
    "    intr  = dev.calibration.depth_intrinsics\n",
    "    H, W = depth.shape\n",
    "    pts, cols = [], []\n",
    "    for v in range(H):\n",
    "        for u in range(W):\n",
    "            z = depth[v, u] / 1000.0\n",
    "            if z == 0:\n",
    "                continue\n",
    "            pts.append([\n",
    "                (u - intr.cx) * z / intr.fx,\n",
    "                (v - intr.cy) * z / intr.fy,\n",
    "                z\n",
    "            ])\n",
    "            cols.append(rgb[v, u] / 255.0)\n",
    "    pcd = o3d.geometry.PointCloud()\n",
    "    pcd.points = o3d.utility.Vector3dVector(np.array(pts))\n",
    "    pcd.colors = o3d.utility.Vector3dVector(np.array(cols))\n",
    "    return pcd"
   ]
  },
  {
   "cell_type": "code",
   "execution_count": null,
   "id": "d59bce35-aaeb-4223-9952-e7b38854949c",
   "metadata": {},
   "outputs": [],
   "source": [
    "def centroid_of_color(pcd, channel=0, thresh=0.8):\n",
    "    colors = np.asarray(pcd.colors)\n",
    "    mask = colors[:, channel] > thresh\n",
    "    if not mask.any():\n",
    "        return None\n",
    "    return np.asarray(pcd.points)[mask].mean(axis=0)"
   ]
  },
  {
   "cell_type": "code",
   "execution_count": null,
   "id": "76cbd1bf-a8d8-4387-93c0-4c879f20d799",
   "metadata": {},
   "outputs": [],
   "source": [
    "for _ in range(10):                # run 10 updates\n",
    "    pcd = get_frame_pointcloud(dev)\n",
    "    c   = centroid_of_color(pcd, channel=0, thresh=0.8)\n",
    "    clear_output(wait=True)\n",
    "    if c is not None:\n",
    "        print(f\"Centroid: X={c[0]:.3f}  Y={c[1]:.3f}  Z={c[2]:.3f} m\")\n",
    "    else:\n",
    "        print(\"No matching points.\")\n",
    "    time.sleep(3)"
   ]
  },
  {
   "cell_type": "code",
   "execution_count": null,
   "id": "c988364e-29bd-468b-b6f0-fcbb83164055",
   "metadata": {},
   "outputs": [],
   "source": [
    "dev.stop_stream()\n",
    "dev.close()"
   ]
  },
  {
   "cell_type": "code",
   "execution_count": null,
   "id": "d3380e7e-a71b-4536-8081-0bc611aba73b",
   "metadata": {},
   "outputs": [],
   "source": []
  }
 ],
 "metadata": {
  "kernelspec": {
   "display_name": "Python [conda env:base] *",
   "language": "python",
   "name": "conda-base-py"
  },
  "language_info": {
   "codemirror_mode": {
    "name": "ipython",
    "version": 3
   },
   "file_extension": ".py",
   "mimetype": "text/x-python",
   "name": "python",
   "nbconvert_exporter": "python",
   "pygments_lexer": "ipython3",
   "version": "3.13.5"
  }
 },
 "nbformat": 4,
 "nbformat_minor": 5
}
