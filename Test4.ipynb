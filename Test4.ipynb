{
 "cells": [
  {
   "cell_type": "code",
   "execution_count": null,
   "id": "74d0ae3a-0b22-44c4-828f-4450eb0d6e31",
   "metadata": {},
   "outputs": [],
   "source": [
    "import open3d as o3d\n",
    "import pyorbbecsdk as ocsdk\n",
    "\n",
    "\n"
   ]
  },
  {
   "cell_type": "code",
   "execution_count": null,
   "id": "ed6291c6-df8e-4136-b461-f6442c839805",
   "metadata": {},
   "outputs": [],
   "source": [
    "print(f\"Open3D version: {o3d.__version__}\")\n",
    "\n",
    "# 1) Test basic Open3D geometry functions\n",
    "mesh = o3d.geometry.TriangleMesh.create_sphere(radius=1.0)\n",
    "print(\"Sphere mesh → vertices:\", len(mesh.vertices),\n",
    "      \", triangles:\", len(mesh.triangles))\n",
    "\n",
    "# 2) Test Orbbec SDK device enumeration\n",
    "ctx = ocsdk.Context()\n",
    "dev_count = ctx.query_devices().get_count()\n",
    "print(\"Orbbec devices found:\", dev_count)\n",
    "\n",
    "# 3) If there’s at least one camera, grab a single depth frame\n",
    "if dev_count > 0:\n",
    "    pipe = ocsdk.Pipeline()\n",
    "    pipe.start()\n",
    "    frames = pipe.wait_for_frames(2000)   # wait up to 2 s\n",
    "    depth = frames.get_depth_frame()\n",
    "    print(\"Depth frame resolution:\", depth.get_width(), \"×\", depth.get_height())\n",
    "    pipe.stop()\n",
    "else:\n",
    "    print(\"No Orbbec camera detected; skipping frame grab.\")\n",
    "\n",
    "print(\"Both Open3D and pyorbbecsdk basic functions are working.\")"
   ]
  }
 ],
 "metadata": {
  "kernelspec": {
   "display_name": "Python [conda env:base] *",
   "language": "python",
   "name": "conda-base-py"
  },
  "language_info": {
   "codemirror_mode": {
    "name": "ipython",
    "version": 3
   },
   "file_extension": ".py",
   "mimetype": "text/x-python",
   "name": "python",
   "nbconvert_exporter": "python",
   "pygments_lexer": "ipython3",
   "version": "3.13.5"
  }
 },
 "nbformat": 4,
 "nbformat_minor": 5
}
