{
 "cells": [
  {
   "cell_type": "code",
   "execution_count": null,
   "id": "1a7106d2-89f3-4c08-b96f-e5ad924ba43e",
   "metadata": {},
   "outputs": [],
   "source": [
    "import time\n",
    "import numpy as np\n",
    "import orbbec\n",
    "from IPython.display import clear_output\n",
    "\n"
   ]
  },
  {
   "cell_type": "code",
   "execution_count": null,
   "id": "95aea7af-08f9-4689-bdfe-552fcb7d295c",
   "metadata": {},
   "outputs": [],
   "source": [
    "# Open device and start stream\n",
    "dev = orbbec.Device()\n",
    "dev.open()\n",
    "dev.start_stream()\n"
   ]
  },
  {
   "cell_type": "code",
   "execution_count": null,
   "id": "308b5102-8542-4def-ba04-3338df39ed9f",
   "metadata": {},
   "outputs": [],
   "source": [
    "def get_frame_pointcloud(dev):\n",
    "    depth = dev.depth_frame\n",
    "    rgb   = dev.color_frame\n",
    "    intr  = dev.calibration.depth_intrinsics\n",
    "    H, W = depth.shape\n",
    "    pts, cols = [], []\n",
    "    for v in range(H):\n",
    "        for u in range(W):\n",
    "            z = depth[v,u]/1000\n",
    "            if z==0: continue\n",
    "            pts.append([ (u-intr.cx)*z/intr.fx,\n",
    "                         (v-intr.cy)*z/intr.fy,\n",
    "                         z ])\n",
    "            cols.append(rgb[v,u]/255.0)\n",
    "    import open3d as o3d\n",
    "    pcd = o3d.geometry.PointCloud()\n",
    "    pcd.points = o3d.utility.Vector3dVector(np.array(pts))\n",
    "    pcd.colors = o3d.utility.Vector3dVector(np.array(cols))\n",
    "    return pcd\n",
    "\n",
    "def centroid_of_color(pcd, channel=0, thresh=0.8):\n",
    "    colors = np.asarray(pcd.colors)\n",
    "    mask = colors[:,channel] > thresh\n",
    "    if not mask.any(): return None\n",
    "    return np.asarray(pcd.points)[mask].mean(axis=0)\n"
   ]
  },
  {
   "cell_type": "code",
   "execution_count": null,
   "id": "d0c20326-2ca0-44ff-a520-5c86b99c0287",
   "metadata": {},
   "outputs": [],
   "source": [
    "for _ in range(10):                # run 10 updates\n",
    "    pcd = get_frame_pointcloud(dev)\n",
    "    c   = centroid_of_color(pcd, 0, 0.8)\n",
    "    clear_output(wait=True)\n",
    "    if c is not None:\n",
    "        print(f\"Centroid: X={c[0]:.3f}  Y={c[1]:.3f}  Z={c[2]:.3f} m\")\n",
    "    else:\n",
    "        print(\"No matching points.\")\n",
    "    time.sleep(3)\n"
   ]
  },
  {
   "cell_type": "code",
   "execution_count": null,
   "id": "cb2e23a4-9152-402d-a853-ec22c679b7a3",
   "metadata": {},
   "outputs": [],
   "source": [
    "dev.stop_stream()\n",
    "dev.close()\n"
   ]
  }
 ],
 "metadata": {
  "kernelspec": {
   "display_name": "Python 3 (ipykernel)",
   "language": "python",
   "name": "python3"
  },
  "language_info": {
   "codemirror_mode": {
    "name": "ipython",
    "version": 3
   },
   "file_extension": ".py",
   "mimetype": "text/x-python",
   "name": "python",
   "nbconvert_exporter": "python",
   "pygments_lexer": "ipython3",
   "version": "3.12.4"
  }
 },
 "nbformat": 4,
 "nbformat_minor": 5
}
