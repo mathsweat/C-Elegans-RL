{
 "cells": [
  {
   "cell_type": "code",
   "execution_count": null,
   "id": "4fda38aa-0831-43c5-a285-31d1d859e7ca",
   "metadata": {},
   "outputs": [],
   "source": [
    "%pip install bleak"
   ]
  },
  {
   "cell_type": "code",
   "execution_count": null,
   "id": "7326db94-9e3d-4618-ab62-ba2091ee88e7",
   "metadata": {},
   "outputs": [],
   "source": [
    "import asyncio\n",
    "from bleak import BleakScanner, BleakClient"
   ]
  },
  {
   "cell_type": "code",
   "execution_count": null,
   "id": "22a3b489-3f4d-4c61-8a55-24e573f913ad",
   "metadata": {},
   "outputs": [],
   "source": [
    "print(\"Scanning for BLE devices…\")\n",
    "devices = await BleakScanner.discover(timeout=5.0)\n",
    "\n",
    "if not devices:\n",
    "    print(\"No devices found.\")\n",
    "else:\n",
    "    for d in devices:\n",
    "        print(f\"Name: {d.name!r}, Address: {d.address}\")\n"
   ]
  },
  {
   "cell_type": "code",
   "execution_count": null,
   "id": "26ff77b2-8f66-4b8e-9eb5-faec28cd568f",
   "metadata": {},
   "outputs": [],
   "source": [
    "TARGET_NAME = \"LEDPeripheral\"\n",
    "CHAR_UUID   = \"19B10001-E8F2-537E-4F6C-D104768A1214\"\n",
    "\n",
    "def read_flatworm_direction() -> int:\n",
    "    # Replace with real signal‑processing\n",
    "    return 0\n",
    "\n",
    "async def main():\n",
    "    client = None\n",
    "    while True:\n",
    "        if client is None or not client.is_connected:\n",
    "            print(\"Scanning…\")\n",
    "            devices = await BleakScanner.discover(timeout=5.0)\n",
    "            addr = next((d.address for d in devices if d.name == TARGET_NAME), None)\n",
    "            if not addr:\n",
    "                print(f\"{TARGET_NAME} not found\")\n",
    "                await asyncio.sleep(2); continue\n",
    "\n",
    "            client = BleakClient(addr)\n",
    "            try:\n",
    "                await client.connect()\n",
    "                print(\"Connected\")\n",
    "            except Exception as e:\n",
    "                print(\"Connect failed:\", e)\n",
    "                client = None\n",
    "                await asyncio.sleep(2)\n",
    "                continue\n",
    "\n",
    "        # once connected:\n",
    "        direction = read_flatworm_direction()\n",
    "        if 0 <= direction <= 6:\n",
    "            try:\n",
    "                await client.write_gatt_char(CHAR_UUID, bytes([direction]))\n",
    "                print(\"Sent:\", direction)\n",
    "            except Exception as e:\n",
    "                print(\"Write failed:\", e)\n",
    "\n",
    "        # handle drop\n",
    "        if client and not client.is_connected:\n",
    "            print(\"Disconnected\")\n",
    "            await client.disconnect()\n",
    "            client = None\n",
    "\n",
    "        await asyncio.sleep(0.5)\n",
    "\n",
    "# **In Jupyter, just do:**\n",
    "await main()\n",
    "\n"
   ]
  },
  {
   "cell_type": "code",
   "execution_count": null,
   "id": "d2d91e5c-b4f6-406f-9cb8-6a20d6d864c4",
   "metadata": {},
   "outputs": [],
   "source": []
  }
 ],
 "metadata": {
  "kernelspec": {
   "display_name": "Python 3 (ipykernel)",
   "language": "python",
   "name": "python3"
  },
  "language_info": {
   "codemirror_mode": {
    "name": "ipython",
    "version": 3
   },
   "file_extension": ".py",
   "mimetype": "text/x-python",
   "name": "python",
   "nbconvert_exporter": "python",
   "pygments_lexer": "ipython3",
   "version": "3.12.4"
  }
 },
 "nbformat": 4,
 "nbformat_minor": 5
}
